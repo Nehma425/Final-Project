{
 "cells": [
  {
   "cell_type": "code",
   "execution_count": 1,
   "id": "507978c6-763f-4106-9294-b9d1c74be280",
   "metadata": {
    "tags": []
   },
   "outputs": [],
   "source": [
    "import pandas as pd\n",
    "import os\n",
    "from keplergl import KeplerGl\n",
    "from pyproj import CRS\n",
    "import numpy as np\n",
    "from matplotlib import pyplot as plt"
   ]
  },
  {
   "cell_type": "code",
   "execution_count": 2,
   "id": "556309e5-4b61-4297-b781-c41956e9b550",
   "metadata": {},
   "outputs": [
    {
     "name": "stderr",
     "output_type": "stream",
     "text": [
      "C:\\Users\\nehma\\AppData\\Local\\Temp\\ipykernel_9048\\3663249288.py:5: DtypeWarning: Columns (6,8) have mixed types. Specify dtype option on import or set low_memory=False.\n",
      "  df = pd.read_csv(file_path, index_col=0)\n"
     ]
    }
   ],
   "source": [
    "# Specify the full file path with quotes\n",
    "file_path = \"C:\\\\Users\\\\nehma\\\\OneDrive\\\\Desktop\\\\Final Achievement\\\\Achievement_2\\\\new_2022_data.csv\"\n",
    "\n",
    "# Read the CSV file into a DataFrame\n",
    "df = pd.read_csv(file_path, index_col=0)"
   ]
  },
  {
   "cell_type": "code",
   "execution_count": 3,
   "id": "55041bea-d533-46c9-a27d-9bd98c5e957a",
   "metadata": {
    "tags": []
   },
   "outputs": [
    {
     "data": {
      "text/html": [
       "<div>\n",
       "<style scoped>\n",
       "    .dataframe tbody tr th:only-of-type {\n",
       "        vertical-align: middle;\n",
       "    }\n",
       "\n",
       "    .dataframe tbody tr th {\n",
       "        vertical-align: top;\n",
       "    }\n",
       "\n",
       "    .dataframe thead th {\n",
       "        text-align: right;\n",
       "    }\n",
       "</style>\n",
       "<table border=\"1\" class=\"dataframe\">\n",
       "  <thead>\n",
       "    <tr style=\"text-align: right;\">\n",
       "      <th></th>\n",
       "      <th>ride_id</th>\n",
       "      <th>rideable_type</th>\n",
       "      <th>started_at</th>\n",
       "      <th>ended_at</th>\n",
       "      <th>start_station_name</th>\n",
       "      <th>start_station_id</th>\n",
       "      <th>end_station_name</th>\n",
       "      <th>end_station_id</th>\n",
       "      <th>start_lat</th>\n",
       "      <th>start_lng</th>\n",
       "      <th>end_lat</th>\n",
       "      <th>end_lng</th>\n",
       "      <th>member_casual</th>\n",
       "      <th>start_time</th>\n",
       "      <th>date</th>\n",
       "      <th>avgTemp</th>\n",
       "      <th>_merge</th>\n",
       "    </tr>\n",
       "  </thead>\n",
       "  <tbody>\n",
       "    <tr>\n",
       "      <th>0</th>\n",
       "      <td>55262E4365A955A2</td>\n",
       "      <td>classic_bike</td>\n",
       "      <td>2022-01-18 08:23:52</td>\n",
       "      <td>2022-01-18 08:28:18</td>\n",
       "      <td>Boerum Pl\\t&amp; Pacific St</td>\n",
       "      <td>4488.09</td>\n",
       "      <td>Clinton St &amp; Joralemon St</td>\n",
       "      <td>4605.04</td>\n",
       "      <td>40.688489</td>\n",
       "      <td>-73.991160</td>\n",
       "      <td>40.692395</td>\n",
       "      <td>-73.993379</td>\n",
       "      <td>member</td>\n",
       "      <td>2022-01-18 08:23:52</td>\n",
       "      <td>2022-01-18</td>\n",
       "      <td>-2.0</td>\n",
       "      <td>both</td>\n",
       "    </tr>\n",
       "    <tr>\n",
       "      <th>1</th>\n",
       "      <td>D272F1B15D841EC0</td>\n",
       "      <td>classic_bike</td>\n",
       "      <td>2022-01-21 09:03:22</td>\n",
       "      <td>2022-01-21 09:05:44</td>\n",
       "      <td>E 12 St &amp; Ave C</td>\n",
       "      <td>5616.08</td>\n",
       "      <td>E 10 St &amp; Avenue A</td>\n",
       "      <td>5659.05</td>\n",
       "      <td>40.727243</td>\n",
       "      <td>-73.976831</td>\n",
       "      <td>40.727408</td>\n",
       "      <td>-73.981420</td>\n",
       "      <td>member</td>\n",
       "      <td>2022-01-21 09:03:22</td>\n",
       "      <td>2022-01-21</td>\n",
       "      <td>-10.0</td>\n",
       "      <td>both</td>\n",
       "    </tr>\n",
       "    <tr>\n",
       "      <th>2</th>\n",
       "      <td>D1FCEF55EB4A807F</td>\n",
       "      <td>classic_bike</td>\n",
       "      <td>2022-01-22 14:28:32</td>\n",
       "      <td>2022-01-22 14:53:18</td>\n",
       "      <td>W 21 St &amp; 6 Ave</td>\n",
       "      <td>6140.05</td>\n",
       "      <td>W 44 St &amp; 11 Ave</td>\n",
       "      <td>6756.05</td>\n",
       "      <td>40.741740</td>\n",
       "      <td>-73.994156</td>\n",
       "      <td>40.762009</td>\n",
       "      <td>-73.996975</td>\n",
       "      <td>member</td>\n",
       "      <td>2022-01-22 14:28:32</td>\n",
       "      <td>2022-01-22</td>\n",
       "      <td>-5.0</td>\n",
       "      <td>both</td>\n",
       "    </tr>\n",
       "    <tr>\n",
       "      <th>3</th>\n",
       "      <td>E9CBDC6A0162C068</td>\n",
       "      <td>electric_bike</td>\n",
       "      <td>2022-01-19 14:49:47</td>\n",
       "      <td>2022-01-19 14:54:02</td>\n",
       "      <td>38 St &amp; 30 Ave</td>\n",
       "      <td>6850.01</td>\n",
       "      <td>Crescent St &amp; 30 Ave</td>\n",
       "      <td>6958.06</td>\n",
       "      <td>40.764175</td>\n",
       "      <td>-73.915840</td>\n",
       "      <td>40.768692</td>\n",
       "      <td>-73.924957</td>\n",
       "      <td>member</td>\n",
       "      <td>2022-01-19 14:49:47</td>\n",
       "      <td>2022-01-19</td>\n",
       "      <td>-1.1</td>\n",
       "      <td>both</td>\n",
       "    </tr>\n",
       "    <tr>\n",
       "      <th>4</th>\n",
       "      <td>2177A5B57326CE9B</td>\n",
       "      <td>electric_bike</td>\n",
       "      <td>2022-01-16 14:36:06</td>\n",
       "      <td>2022-01-16 14:44:06</td>\n",
       "      <td>Pacific St &amp; Nevins St</td>\n",
       "      <td>4362.04</td>\n",
       "      <td>Clinton St &amp; Tillary St</td>\n",
       "      <td>4748.07</td>\n",
       "      <td>40.685376</td>\n",
       "      <td>-73.983021</td>\n",
       "      <td>40.696233</td>\n",
       "      <td>-73.991421</td>\n",
       "      <td>member</td>\n",
       "      <td>2022-01-16 14:36:06</td>\n",
       "      <td>2022-01-16</td>\n",
       "      <td>-6.9</td>\n",
       "      <td>both</td>\n",
       "    </tr>\n",
       "  </tbody>\n",
       "</table>\n",
       "</div>"
      ],
      "text/plain": [
       "            ride_id  rideable_type           started_at             ended_at  \\\n",
       "0  55262E4365A955A2   classic_bike  2022-01-18 08:23:52  2022-01-18 08:28:18   \n",
       "1  D272F1B15D841EC0   classic_bike  2022-01-21 09:03:22  2022-01-21 09:05:44   \n",
       "2  D1FCEF55EB4A807F   classic_bike  2022-01-22 14:28:32  2022-01-22 14:53:18   \n",
       "3  E9CBDC6A0162C068  electric_bike  2022-01-19 14:49:47  2022-01-19 14:54:02   \n",
       "4  2177A5B57326CE9B  electric_bike  2022-01-16 14:36:06  2022-01-16 14:44:06   \n",
       "\n",
       "        start_station_name start_station_id           end_station_name  \\\n",
       "0  Boerum Pl\\t& Pacific St          4488.09  Clinton St & Joralemon St   \n",
       "1          E 12 St & Ave C          5616.08         E 10 St & Avenue A   \n",
       "2          W 21 St & 6 Ave          6140.05           W 44 St & 11 Ave   \n",
       "3           38 St & 30 Ave          6850.01       Crescent St & 30 Ave   \n",
       "4   Pacific St & Nevins St          4362.04    Clinton St & Tillary St   \n",
       "\n",
       "  end_station_id  start_lat  start_lng    end_lat    end_lng member_casual  \\\n",
       "0        4605.04  40.688489 -73.991160  40.692395 -73.993379        member   \n",
       "1        5659.05  40.727243 -73.976831  40.727408 -73.981420        member   \n",
       "2        6756.05  40.741740 -73.994156  40.762009 -73.996975        member   \n",
       "3        6958.06  40.764175 -73.915840  40.768692 -73.924957        member   \n",
       "4        4748.07  40.685376 -73.983021  40.696233 -73.991421        member   \n",
       "\n",
       "            start_time        date  avgTemp _merge  \n",
       "0  2022-01-18 08:23:52  2022-01-18     -2.0   both  \n",
       "1  2022-01-21 09:03:22  2022-01-21    -10.0   both  \n",
       "2  2022-01-22 14:28:32  2022-01-22     -5.0   both  \n",
       "3  2022-01-19 14:49:47  2022-01-19     -1.1   both  \n",
       "4  2022-01-16 14:36:06  2022-01-16     -6.9   both  "
      ]
     },
     "execution_count": 3,
     "metadata": {},
     "output_type": "execute_result"
    }
   ],
   "source": [
    "df.head(5)"
   ]
  },
  {
   "cell_type": "code",
   "execution_count": 4,
   "id": "acbdb675-a3c2-4dec-8416-3902925891f4",
   "metadata": {
    "tags": []
   },
   "outputs": [
    {
     "data": {
      "text/html": [
       "<div>\n",
       "<style scoped>\n",
       "    .dataframe tbody tr th:only-of-type {\n",
       "        vertical-align: middle;\n",
       "    }\n",
       "\n",
       "    .dataframe tbody tr th {\n",
       "        vertical-align: top;\n",
       "    }\n",
       "\n",
       "    .dataframe thead th {\n",
       "        text-align: right;\n",
       "    }\n",
       "</style>\n",
       "<table border=\"1\" class=\"dataframe\">\n",
       "  <thead>\n",
       "    <tr style=\"text-align: right;\">\n",
       "      <th></th>\n",
       "      <th>ride_id</th>\n",
       "      <th>rideable_type</th>\n",
       "      <th>started_at</th>\n",
       "      <th>ended_at</th>\n",
       "      <th>start_station_name</th>\n",
       "      <th>start_station_id</th>\n",
       "      <th>end_station_name</th>\n",
       "      <th>end_station_id</th>\n",
       "      <th>start_lat</th>\n",
       "      <th>start_lng</th>\n",
       "      <th>end_lat</th>\n",
       "      <th>end_lng</th>\n",
       "      <th>member_casual</th>\n",
       "      <th>start_time</th>\n",
       "      <th>date</th>\n",
       "      <th>avgTemp</th>\n",
       "      <th>_merge</th>\n",
       "    </tr>\n",
       "  </thead>\n",
       "  <tbody>\n",
       "    <tr>\n",
       "      <th>30689916</th>\n",
       "      <td>CB2EE50F60A58C7B</td>\n",
       "      <td>classic_bike</td>\n",
       "      <td>2022-12-12 08:38:46</td>\n",
       "      <td>2022-12-12 08:46:12</td>\n",
       "      <td>E 41 St &amp; Madison Ave (SW corner)</td>\n",
       "      <td>6474.12</td>\n",
       "      <td>6 Ave &amp; W 33 St</td>\n",
       "      <td>6364.07</td>\n",
       "      <td>40.752165</td>\n",
       "      <td>-73.979922</td>\n",
       "      <td>40.749013</td>\n",
       "      <td>-73.988484</td>\n",
       "      <td>member</td>\n",
       "      <td>2022-12-12 08:38:46</td>\n",
       "      <td>2022-12-12</td>\n",
       "      <td>3.6</td>\n",
       "      <td>both</td>\n",
       "    </tr>\n",
       "    <tr>\n",
       "      <th>30689917</th>\n",
       "      <td>3C0DF3280FEB1350</td>\n",
       "      <td>classic_bike</td>\n",
       "      <td>2022-12-12 13:06:32</td>\n",
       "      <td>2022-12-12 13:19:58</td>\n",
       "      <td>Peck Slip &amp; South St</td>\n",
       "      <td>5096.12</td>\n",
       "      <td>Vesey St &amp; Church St</td>\n",
       "      <td>5216.06</td>\n",
       "      <td>40.707689</td>\n",
       "      <td>-74.001254</td>\n",
       "      <td>40.712220</td>\n",
       "      <td>-74.010472</td>\n",
       "      <td>member</td>\n",
       "      <td>2022-12-12 13:06:32</td>\n",
       "      <td>2022-12-12</td>\n",
       "      <td>3.6</td>\n",
       "      <td>both</td>\n",
       "    </tr>\n",
       "    <tr>\n",
       "      <th>30689918</th>\n",
       "      <td>B916E63B630D5020</td>\n",
       "      <td>classic_bike</td>\n",
       "      <td>2022-12-18 01:15:22</td>\n",
       "      <td>2022-12-18 01:48:15</td>\n",
       "      <td>E 41 St &amp; Madison Ave (SW corner)</td>\n",
       "      <td>6474.12</td>\n",
       "      <td>Lenox Ave &amp; W 111 St</td>\n",
       "      <td>7602.05</td>\n",
       "      <td>40.752399</td>\n",
       "      <td>-73.980150</td>\n",
       "      <td>40.798786</td>\n",
       "      <td>-73.952300</td>\n",
       "      <td>member</td>\n",
       "      <td>2022-12-18 01:15:22</td>\n",
       "      <td>2022-12-18</td>\n",
       "      <td>-7.0</td>\n",
       "      <td>both</td>\n",
       "    </tr>\n",
       "    <tr>\n",
       "      <th>30689919</th>\n",
       "      <td>21EAC007BE7D4161</td>\n",
       "      <td>classic_bike</td>\n",
       "      <td>2022-12-08 23:09:54</td>\n",
       "      <td>2022-12-08 23:26:37</td>\n",
       "      <td>W 37 St &amp; 10 Ave</td>\n",
       "      <td>6611.02</td>\n",
       "      <td>W 70 St &amp; Amsterdam Ave</td>\n",
       "      <td>7207.08</td>\n",
       "      <td>40.756604</td>\n",
       "      <td>-73.997901</td>\n",
       "      <td>40.777480</td>\n",
       "      <td>-73.982886</td>\n",
       "      <td>member</td>\n",
       "      <td>2022-12-08 23:09:54</td>\n",
       "      <td>2022-12-08</td>\n",
       "      <td>2.5</td>\n",
       "      <td>both</td>\n",
       "    </tr>\n",
       "    <tr>\n",
       "      <th>30689920</th>\n",
       "      <td>538408C4A16F4415</td>\n",
       "      <td>electric_bike</td>\n",
       "      <td>2022-12-21 07:26:14</td>\n",
       "      <td>2022-12-21 07:31:40</td>\n",
       "      <td>W 37 St &amp; 10 Ave</td>\n",
       "      <td>6611.02</td>\n",
       "      <td>6 Ave &amp; W 33 St</td>\n",
       "      <td>6364.07</td>\n",
       "      <td>40.756604</td>\n",
       "      <td>-73.997901</td>\n",
       "      <td>40.749013</td>\n",
       "      <td>-73.988484</td>\n",
       "      <td>member</td>\n",
       "      <td>2022-12-21 07:26:14</td>\n",
       "      <td>2022-12-21</td>\n",
       "      <td>-6.7</td>\n",
       "      <td>both</td>\n",
       "    </tr>\n",
       "  </tbody>\n",
       "</table>\n",
       "</div>"
      ],
      "text/plain": [
       "                   ride_id  rideable_type           started_at  \\\n",
       "30689916  CB2EE50F60A58C7B   classic_bike  2022-12-12 08:38:46   \n",
       "30689917  3C0DF3280FEB1350   classic_bike  2022-12-12 13:06:32   \n",
       "30689918  B916E63B630D5020   classic_bike  2022-12-18 01:15:22   \n",
       "30689919  21EAC007BE7D4161   classic_bike  2022-12-08 23:09:54   \n",
       "30689920  538408C4A16F4415  electric_bike  2022-12-21 07:26:14   \n",
       "\n",
       "                     ended_at                 start_station_name  \\\n",
       "30689916  2022-12-12 08:46:12  E 41 St & Madison Ave (SW corner)   \n",
       "30689917  2022-12-12 13:19:58               Peck Slip & South St   \n",
       "30689918  2022-12-18 01:48:15  E 41 St & Madison Ave (SW corner)   \n",
       "30689919  2022-12-08 23:26:37                   W 37 St & 10 Ave   \n",
       "30689920  2022-12-21 07:31:40                   W 37 St & 10 Ave   \n",
       "\n",
       "         start_station_id         end_station_name end_station_id  start_lat  \\\n",
       "30689916          6474.12          6 Ave & W 33 St        6364.07  40.752165   \n",
       "30689917          5096.12     Vesey St & Church St        5216.06  40.707689   \n",
       "30689918          6474.12     Lenox Ave & W 111 St        7602.05  40.752399   \n",
       "30689919          6611.02  W 70 St & Amsterdam Ave        7207.08  40.756604   \n",
       "30689920          6611.02          6 Ave & W 33 St        6364.07  40.756604   \n",
       "\n",
       "          start_lng    end_lat    end_lng member_casual           start_time  \\\n",
       "30689916 -73.979922  40.749013 -73.988484        member  2022-12-12 08:38:46   \n",
       "30689917 -74.001254  40.712220 -74.010472        member  2022-12-12 13:06:32   \n",
       "30689918 -73.980150  40.798786 -73.952300        member  2022-12-18 01:15:22   \n",
       "30689919 -73.997901  40.777480 -73.982886        member  2022-12-08 23:09:54   \n",
       "30689920 -73.997901  40.749013 -73.988484        member  2022-12-21 07:26:14   \n",
       "\n",
       "                date  avgTemp _merge  \n",
       "30689916  2022-12-12      3.6   both  \n",
       "30689917  2022-12-12      3.6   both  \n",
       "30689918  2022-12-18     -7.0   both  \n",
       "30689919  2022-12-08      2.5   both  \n",
       "30689920  2022-12-21     -6.7   both  "
      ]
     },
     "execution_count": 4,
     "metadata": {},
     "output_type": "execute_result"
    }
   ],
   "source": [
    "df.tail(5)"
   ]
  },
  {
   "cell_type": "code",
   "execution_count": 5,
   "id": "149420ea-3378-4963-8e11-2c9c9756088f",
   "metadata": {
    "tags": []
   },
   "outputs": [
    {
     "data": {
      "text/plain": [
       "(30689921, 17)"
      ]
     },
     "execution_count": 5,
     "metadata": {},
     "output_type": "execute_result"
    }
   ],
   "source": [
    "df.shape"
   ]
  },
  {
   "cell_type": "markdown",
   "id": "eea8dd6b-4e07-4588-9a0b-be80e2c8f347",
   "metadata": {
    "tags": []
   },
   "source": [
    "#3In the data set from the previous task, create a new column with the value of 1. Then create a new aggregated dataframe that contains 3 columns: starting station, ending station, and the count of trips between those stations."
   ]
  },
  {
   "cell_type": "code",
   "execution_count": 6,
   "id": "c1f51d49-805c-4239-a459-29f31f436caf",
   "metadata": {
    "tags": []
   },
   "outputs": [],
   "source": [
    "# Create a new column with a constant value of 1 to represent each trip\n",
    "df['trip_count'] = 1"
   ]
  },
  {
   "cell_type": "code",
   "execution_count": 7,
   "id": "a35e0e7d-3074-464e-a4e3-d0074e773f0e",
   "metadata": {
    "tags": []
   },
   "outputs": [],
   "source": [
    "df_group = df.groupby(['start_station_name', 'end_station_name'])['trip_count'].count().reset_index()\n"
   ]
  },
  {
   "cell_type": "code",
   "execution_count": 8,
   "id": "b61ee897-2486-435a-8f2b-07f48a8730c5",
   "metadata": {
    "tags": []
   },
   "outputs": [
    {
     "data": {
      "text/html": [
       "<div>\n",
       "<style scoped>\n",
       "    .dataframe tbody tr th:only-of-type {\n",
       "        vertical-align: middle;\n",
       "    }\n",
       "\n",
       "    .dataframe tbody tr th {\n",
       "        vertical-align: top;\n",
       "    }\n",
       "\n",
       "    .dataframe thead th {\n",
       "        text-align: right;\n",
       "    }\n",
       "</style>\n",
       "<table border=\"1\" class=\"dataframe\">\n",
       "  <thead>\n",
       "    <tr style=\"text-align: right;\">\n",
       "      <th></th>\n",
       "      <th>start_station_name</th>\n",
       "      <th>end_station_name</th>\n",
       "      <th>trip_count</th>\n",
       "    </tr>\n",
       "  </thead>\n",
       "  <tbody>\n",
       "    <tr>\n",
       "      <th>0</th>\n",
       "      <td>1 Ave &amp; E 110 St</td>\n",
       "      <td>1 Ave &amp; E 110 St</td>\n",
       "      <td>1473</td>\n",
       "    </tr>\n",
       "    <tr>\n",
       "      <th>1</th>\n",
       "      <td>1 Ave &amp; E 110 St</td>\n",
       "      <td>1 Ave &amp; E 18 St</td>\n",
       "      <td>2</td>\n",
       "    </tr>\n",
       "    <tr>\n",
       "      <th>2</th>\n",
       "      <td>1 Ave &amp; E 110 St</td>\n",
       "      <td>1 Ave &amp; E 30 St</td>\n",
       "      <td>4</td>\n",
       "    </tr>\n",
       "    <tr>\n",
       "      <th>3</th>\n",
       "      <td>1 Ave &amp; E 110 St</td>\n",
       "      <td>1 Ave &amp; E 39 St</td>\n",
       "      <td>1</td>\n",
       "    </tr>\n",
       "    <tr>\n",
       "      <th>4</th>\n",
       "      <td>1 Ave &amp; E 110 St</td>\n",
       "      <td>1 Ave &amp; E 44 St</td>\n",
       "      <td>12</td>\n",
       "    </tr>\n",
       "    <tr>\n",
       "      <th>...</th>\n",
       "      <td>...</td>\n",
       "      <td>...</td>\n",
       "      <td>...</td>\n",
       "    </tr>\n",
       "    <tr>\n",
       "      <th>1013409</th>\n",
       "      <td>Yankee Ferry Terminal</td>\n",
       "      <td>Water St &amp; Main St</td>\n",
       "      <td>4</td>\n",
       "    </tr>\n",
       "    <tr>\n",
       "      <th>1013410</th>\n",
       "      <td>Yankee Ferry Terminal</td>\n",
       "      <td>West St &amp; Chambers St</td>\n",
       "      <td>6</td>\n",
       "    </tr>\n",
       "    <tr>\n",
       "      <th>1013411</th>\n",
       "      <td>Yankee Ferry Terminal</td>\n",
       "      <td>West St &amp; Liberty St</td>\n",
       "      <td>4</td>\n",
       "    </tr>\n",
       "    <tr>\n",
       "      <th>1013412</th>\n",
       "      <td>Yankee Ferry Terminal</td>\n",
       "      <td>West Thames St</td>\n",
       "      <td>1</td>\n",
       "    </tr>\n",
       "    <tr>\n",
       "      <th>1013413</th>\n",
       "      <td>Yankee Ferry Terminal</td>\n",
       "      <td>Yankee Ferry Terminal</td>\n",
       "      <td>5965</td>\n",
       "    </tr>\n",
       "  </tbody>\n",
       "</table>\n",
       "<p>1013414 rows × 3 columns</p>\n",
       "</div>"
      ],
      "text/plain": [
       "            start_station_name       end_station_name  trip_count\n",
       "0             1 Ave & E 110 St       1 Ave & E 110 St        1473\n",
       "1             1 Ave & E 110 St        1 Ave & E 18 St           2\n",
       "2             1 Ave & E 110 St        1 Ave & E 30 St           4\n",
       "3             1 Ave & E 110 St        1 Ave & E 39 St           1\n",
       "4             1 Ave & E 110 St        1 Ave & E 44 St          12\n",
       "...                        ...                    ...         ...\n",
       "1013409  Yankee Ferry Terminal     Water St & Main St           4\n",
       "1013410  Yankee Ferry Terminal  West St & Chambers St           6\n",
       "1013411  Yankee Ferry Terminal   West St & Liberty St           4\n",
       "1013412  Yankee Ferry Terminal         West Thames St           1\n",
       "1013413  Yankee Ferry Terminal  Yankee Ferry Terminal        5965\n",
       "\n",
       "[1013414 rows x 3 columns]"
      ]
     },
     "execution_count": 8,
     "metadata": {},
     "output_type": "execute_result"
    }
   ],
   "source": [
    "df_group"
   ]
  },
  {
   "cell_type": "code",
   "execution_count": 9,
   "id": "4ee8efaf-d634-4e0f-b516-ab04b494f3db",
   "metadata": {
    "tags": []
   },
   "outputs": [
    {
     "name": "stdout",
     "output_type": "stream",
     "text": [
      "30618148\n",
      "(30689921, 18)\n"
     ]
    }
   ],
   "source": [
    "print(df_group['trip_count'].sum())\n",
    "print(df.shape)"
   ]
  },
  {
   "cell_type": "code",
   "execution_count": 10,
   "id": "80c3f7cd-f501-4f69-b8f2-70c7127d287a",
   "metadata": {
    "tags": []
   },
   "outputs": [
    {
     "data": {
      "text/plain": [
       "count    1.013414e+06\n",
       "mean     3.021287e+01\n",
       "std      1.110286e+02\n",
       "min      1.000000e+00\n",
       "25%      1.000000e+00\n",
       "50%      4.000000e+00\n",
       "75%      1.700000e+01\n",
       "max      1.407100e+04\n",
       "Name: trip_count, dtype: float64"
      ]
     },
     "execution_count": 10,
     "metadata": {},
     "output_type": "execute_result"
    }
   ],
   "source": [
    "df_group['trip_count'].describe()"
   ]
  },
  {
   "cell_type": "markdown",
   "id": "68092ad0-db79-4761-9138-dfe4a45e9998",
   "metadata": {},
   "source": [
    "Some exploratory analysis into the trips"
   ]
  },
  {
   "cell_type": "code",
   "execution_count": 11,
   "id": "3123700b-3ff5-4ec2-b5dc-62c8cca9d4c0",
   "metadata": {
    "tags": []
   },
   "outputs": [
    {
     "data": {
      "image/png": "[encoded data removed]",
      "text/plain": [
       "<Figure size 640x480 with 1 Axes>"
      ]
     },
     "metadata": {},
     "output_type": "display_data"
    }
   ],
   "source": [
    "df_group['trip_count'].hist(bins = 100)\n",
    "plt.show()"
   ]
  },
  {
   "cell_type": "code",
   "execution_count": 12,
   "id": "193769fc-a05b-4103-a8c3-f76422198752",
   "metadata": {
    "tags": []
   },
   "outputs": [
    {
     "data": {
      "text/plain": [
       "[]"
      ]
     },
     "execution_count": 12,
     "metadata": {},
     "output_type": "execute_result"
    },
    {
     "data": {
      "image/png": "[encoded data removed]",
      "text/plain": [
       "<Figure size 640x480 with 1 Axes>"
      ]
     },
     "metadata": {},
     "output_type": "display_data"
    }
   ],
   "source": [
    "b_plot = df_group.boxplot(column = 'trip_count') \n",
    "b_plot.plot()"
   ]
  },
  {
   "cell_type": "code",
   "execution_count": 13,
   "id": "c8ccf73f-117c-43da-ae28-7ce636442d70",
   "metadata": {
    "tags": []
   },
   "outputs": [
    {
     "data": {
      "text/plain": [
       "trip_count\n",
       "1       268271\n",
       "2       128310\n",
       "3        78056\n",
       "4        54838\n",
       "5        40759\n",
       "         ...  \n",
       "1543         1\n",
       "1038         1\n",
       "1250         1\n",
       "1569         1\n",
       "5965         1\n",
       "Name: count, Length: 2065, dtype: int64"
      ]
     },
     "execution_count": 13,
     "metadata": {},
     "output_type": "execute_result"
    }
   ],
   "source": [
    "df_group['trip_count'].sort_index().value_counts()"
   ]
  },
  {
   "cell_type": "code",
   "execution_count": 14,
   "id": "306d82b2-9924-471c-a0b3-6dd929ed7622",
   "metadata": {
    "tags": []
   },
   "outputs": [],
   "source": [
    "df_group.to_csv('df_groupby_final.csv')"
   ]
  },
  {
   "cell_type": "code",
   "execution_count": 15,
   "id": "f32c8b9e-db1e-4164-b536-a22c9e6258a8",
   "metadata": {
    "tags": []
   },
   "outputs": [
    {
     "data": {
      "text/html": [
       "<div>\n",
       "<style scoped>\n",
       "    .dataframe tbody tr th:only-of-type {\n",
       "        vertical-align: middle;\n",
       "    }\n",
       "\n",
       "    .dataframe tbody tr th {\n",
       "        vertical-align: top;\n",
       "    }\n",
       "\n",
       "    .dataframe thead th {\n",
       "        text-align: right;\n",
       "    }\n",
       "</style>\n",
       "<table border=\"1\" class=\"dataframe\">\n",
       "  <thead>\n",
       "    <tr style=\"text-align: right;\">\n",
       "      <th></th>\n",
       "      <th>start_station_name</th>\n",
       "      <th>end_station_name</th>\n",
       "      <th>trip_count</th>\n",
       "    </tr>\n",
       "  </thead>\n",
       "  <tbody>\n",
       "    <tr>\n",
       "      <th>0</th>\n",
       "      <td>1 Ave &amp; E 110 St</td>\n",
       "      <td>1 Ave &amp; E 110 St</td>\n",
       "      <td>1473</td>\n",
       "    </tr>\n",
       "    <tr>\n",
       "      <th>1</th>\n",
       "      <td>1 Ave &amp; E 110 St</td>\n",
       "      <td>1 Ave &amp; E 18 St</td>\n",
       "      <td>2</td>\n",
       "    </tr>\n",
       "    <tr>\n",
       "      <th>2</th>\n",
       "      <td>1 Ave &amp; E 110 St</td>\n",
       "      <td>1 Ave &amp; E 30 St</td>\n",
       "      <td>4</td>\n",
       "    </tr>\n",
       "    <tr>\n",
       "      <th>3</th>\n",
       "      <td>1 Ave &amp; E 110 St</td>\n",
       "      <td>1 Ave &amp; E 39 St</td>\n",
       "      <td>1</td>\n",
       "    </tr>\n",
       "    <tr>\n",
       "      <th>4</th>\n",
       "      <td>1 Ave &amp; E 110 St</td>\n",
       "      <td>1 Ave &amp; E 44 St</td>\n",
       "      <td>12</td>\n",
       "    </tr>\n",
       "  </tbody>\n",
       "</table>\n",
       "</div>"
      ],
      "text/plain": [
       "  start_station_name  end_station_name  trip_count\n",
       "0   1 Ave & E 110 St  1 Ave & E 110 St        1473\n",
       "1   1 Ave & E 110 St   1 Ave & E 18 St           2\n",
       "2   1 Ave & E 110 St   1 Ave & E 30 St           4\n",
       "3   1 Ave & E 110 St   1 Ave & E 39 St           1\n",
       "4   1 Ave & E 110 St   1 Ave & E 44 St          12"
      ]
     },
     "execution_count": 15,
     "metadata": {},
     "output_type": "execute_result"
    }
   ],
   "source": [
    "df_group.head()"
   ]
  },
  {
   "cell_type": "code",
   "execution_count": 16,
   "id": "3cf36135-9636-4f26-a49d-79306b1595ac",
   "metadata": {
    "tags": []
   },
   "outputs": [
    {
     "name": "stdout",
     "output_type": "stream",
     "text": [
      "  start_station_name  end_station_name  trip_count\n",
      "0   1 Ave & E 110 St  1 Ave & E 110 St        1473\n",
      "1   1 Ave & E 110 St  1 Ave & E 110 St        1473\n",
      "2   1 Ave & E 110 St  1 Ave & E 110 St        1473\n",
      "3   1 Ave & E 110 St  1 Ave & E 110 St        1473\n",
      "4   1 Ave & E 110 St  1 Ave & E 110 St        1473\n"
     ]
    }
   ],
   "source": [
    "# Merge df_group with the original ride data based on start_station_name and end_station_name\n",
    "merged_df = pd.merge(df_group, df[['start_station_name', 'end_station_name']], \n",
    "                     on=['start_station_name', 'end_station_name'], how='left')\n",
    "\n",
    "# Display the merged DataFrame\n",
    "print(merged_df.head())"
   ]
  },
  {
   "cell_type": "code",
   "execution_count": 17,
   "id": "40a38373-f0fd-441b-a47b-7b2a389f0445",
   "metadata": {
    "tags": []
   },
   "outputs": [
    {
     "data": {
      "text/html": [
       "<div>\n",
       "<style scoped>\n",
       "    .dataframe tbody tr th:only-of-type {\n",
       "        vertical-align: middle;\n",
       "    }\n",
       "\n",
       "    .dataframe tbody tr th {\n",
       "        vertical-align: top;\n",
       "    }\n",
       "\n",
       "    .dataframe thead th {\n",
       "        text-align: right;\n",
       "    }\n",
       "</style>\n",
       "<table border=\"1\" class=\"dataframe\">\n",
       "  <thead>\n",
       "    <tr style=\"text-align: right;\">\n",
       "      <th></th>\n",
       "      <th>start_station_name</th>\n",
       "      <th>end_station_name</th>\n",
       "      <th>trip_count</th>\n",
       "    </tr>\n",
       "  </thead>\n",
       "  <tbody>\n",
       "    <tr>\n",
       "      <th>30618143</th>\n",
       "      <td>Yankee Ferry Terminal</td>\n",
       "      <td>Yankee Ferry Terminal</td>\n",
       "      <td>5965</td>\n",
       "    </tr>\n",
       "    <tr>\n",
       "      <th>30618144</th>\n",
       "      <td>Yankee Ferry Terminal</td>\n",
       "      <td>Yankee Ferry Terminal</td>\n",
       "      <td>5965</td>\n",
       "    </tr>\n",
       "    <tr>\n",
       "      <th>30618145</th>\n",
       "      <td>Yankee Ferry Terminal</td>\n",
       "      <td>Yankee Ferry Terminal</td>\n",
       "      <td>5965</td>\n",
       "    </tr>\n",
       "    <tr>\n",
       "      <th>30618146</th>\n",
       "      <td>Yankee Ferry Terminal</td>\n",
       "      <td>Yankee Ferry Terminal</td>\n",
       "      <td>5965</td>\n",
       "    </tr>\n",
       "    <tr>\n",
       "      <th>30618147</th>\n",
       "      <td>Yankee Ferry Terminal</td>\n",
       "      <td>Yankee Ferry Terminal</td>\n",
       "      <td>5965</td>\n",
       "    </tr>\n",
       "  </tbody>\n",
       "</table>\n",
       "</div>"
      ],
      "text/plain": [
       "             start_station_name       end_station_name  trip_count\n",
       "30618143  Yankee Ferry Terminal  Yankee Ferry Terminal        5965\n",
       "30618144  Yankee Ferry Terminal  Yankee Ferry Terminal        5965\n",
       "30618145  Yankee Ferry Terminal  Yankee Ferry Terminal        5965\n",
       "30618146  Yankee Ferry Terminal  Yankee Ferry Terminal        5965\n",
       "30618147  Yankee Ferry Terminal  Yankee Ferry Terminal        5965"
      ]
     },
     "execution_count": 17,
     "metadata": {},
     "output_type": "execute_result"
    }
   ],
   "source": [
    "merged_df.tail(5)"
   ]
  },
  {
   "cell_type": "code",
   "execution_count": 18,
   "id": "fb8c1be4-0669-4a02-9d72-555aec64cbc6",
   "metadata": {
    "tags": []
   },
   "outputs": [],
   "source": [
    "# Merge df_group with the original ride data based on start_station_name and end_station_name\n",
    "merged1_df = pd.merge(df_group, df[['start_station_name', 'end_station_name', \n",
    "                                    'start_lat', 'start_lng', 'end_lat', 'end_lng']], \n",
    "                     on=['start_station_name', 'end_station_name'], how='left')"
   ]
  },
  {
   "cell_type": "code",
   "execution_count": 19,
   "id": "865bd58b-e691-4c27-8fc9-add2117bfd8c",
   "metadata": {
    "tags": []
   },
   "outputs": [
    {
     "data": {
      "text/html": [
       "<div>\n",
       "<style scoped>\n",
       "    .dataframe tbody tr th:only-of-type {\n",
       "        vertical-align: middle;\n",
       "    }\n",
       "\n",
       "    .dataframe tbody tr th {\n",
       "        vertical-align: top;\n",
       "    }\n",
       "\n",
       "    .dataframe thead th {\n",
       "        text-align: right;\n",
       "    }\n",
       "</style>\n",
       "<table border=\"1\" class=\"dataframe\">\n",
       "  <thead>\n",
       "    <tr style=\"text-align: right;\">\n",
       "      <th></th>\n",
       "      <th>start_station_name</th>\n",
       "      <th>end_station_name</th>\n",
       "      <th>trip_count</th>\n",
       "      <th>start_lat</th>\n",
       "      <th>start_lng</th>\n",
       "      <th>end_lat</th>\n",
       "      <th>end_lng</th>\n",
       "    </tr>\n",
       "  </thead>\n",
       "  <tbody>\n",
       "    <tr>\n",
       "      <th>0</th>\n",
       "      <td>1 Ave &amp; E 110 St</td>\n",
       "      <td>1 Ave &amp; E 110 St</td>\n",
       "      <td>1473</td>\n",
       "      <td>40.792327</td>\n",
       "      <td>-73.9383</td>\n",
       "      <td>40.792327</td>\n",
       "      <td>-73.9383</td>\n",
       "    </tr>\n",
       "    <tr>\n",
       "      <th>1</th>\n",
       "      <td>1 Ave &amp; E 110 St</td>\n",
       "      <td>1 Ave &amp; E 110 St</td>\n",
       "      <td>1473</td>\n",
       "      <td>40.792327</td>\n",
       "      <td>-73.9383</td>\n",
       "      <td>40.792327</td>\n",
       "      <td>-73.9383</td>\n",
       "    </tr>\n",
       "    <tr>\n",
       "      <th>2</th>\n",
       "      <td>1 Ave &amp; E 110 St</td>\n",
       "      <td>1 Ave &amp; E 110 St</td>\n",
       "      <td>1473</td>\n",
       "      <td>40.792327</td>\n",
       "      <td>-73.9383</td>\n",
       "      <td>40.792327</td>\n",
       "      <td>-73.9383</td>\n",
       "    </tr>\n",
       "    <tr>\n",
       "      <th>3</th>\n",
       "      <td>1 Ave &amp; E 110 St</td>\n",
       "      <td>1 Ave &amp; E 110 St</td>\n",
       "      <td>1473</td>\n",
       "      <td>40.792327</td>\n",
       "      <td>-73.9383</td>\n",
       "      <td>40.792327</td>\n",
       "      <td>-73.9383</td>\n",
       "    </tr>\n",
       "    <tr>\n",
       "      <th>4</th>\n",
       "      <td>1 Ave &amp; E 110 St</td>\n",
       "      <td>1 Ave &amp; E 110 St</td>\n",
       "      <td>1473</td>\n",
       "      <td>40.792327</td>\n",
       "      <td>-73.9383</td>\n",
       "      <td>40.792327</td>\n",
       "      <td>-73.9383</td>\n",
       "    </tr>\n",
       "  </tbody>\n",
       "</table>\n",
       "</div>"
      ],
      "text/plain": [
       "  start_station_name  end_station_name  trip_count  start_lat  start_lng  \\\n",
       "0   1 Ave & E 110 St  1 Ave & E 110 St        1473  40.792327   -73.9383   \n",
       "1   1 Ave & E 110 St  1 Ave & E 110 St        1473  40.792327   -73.9383   \n",
       "2   1 Ave & E 110 St  1 Ave & E 110 St        1473  40.792327   -73.9383   \n",
       "3   1 Ave & E 110 St  1 Ave & E 110 St        1473  40.792327   -73.9383   \n",
       "4   1 Ave & E 110 St  1 Ave & E 110 St        1473  40.792327   -73.9383   \n",
       "\n",
       "     end_lat  end_lng  \n",
       "0  40.792327 -73.9383  \n",
       "1  40.792327 -73.9383  \n",
       "2  40.792327 -73.9383  \n",
       "3  40.792327 -73.9383  \n",
       "4  40.792327 -73.9383  "
      ]
     },
     "execution_count": 19,
     "metadata": {},
     "output_type": "execute_result"
    }
   ],
   "source": [
    "merged1_df.head(5)"
   ]
  },
  {
   "cell_type": "code",
   "execution_count": 59,
   "id": "82e4cfdf-a01d-456c-aaf2-52b0b36e93df",
   "metadata": {
    "tags": []
   },
   "outputs": [
    {
     "data": {
      "text/html": [
       "<div>\n",
       "<style scoped>\n",
       "    .dataframe tbody tr th:only-of-type {\n",
       "        vertical-align: middle;\n",
       "    }\n",
       "\n",
       "    .dataframe tbody tr th {\n",
       "        vertical-align: top;\n",
       "    }\n",
       "\n",
       "    .dataframe thead th {\n",
       "        text-align: right;\n",
       "    }\n",
       "</style>\n",
       "<table border=\"1\" class=\"dataframe\">\n",
       "  <thead>\n",
       "    <tr style=\"text-align: right;\">\n",
       "      <th></th>\n",
       "      <th>start_station_name</th>\n",
       "      <th>end_station_name</th>\n",
       "      <th>trip_count</th>\n",
       "      <th>start_lat</th>\n",
       "      <th>start_lng</th>\n",
       "      <th>end_lat</th>\n",
       "      <th>end_lng</th>\n",
       "    </tr>\n",
       "  </thead>\n",
       "  <tbody>\n",
       "    <tr>\n",
       "      <th>3110838</th>\n",
       "      <td>Yankee Ferry Terminal</td>\n",
       "      <td>Water St &amp; Main St</td>\n",
       "      <td>4</td>\n",
       "      <td>40.69</td>\n",
       "      <td>-74.02</td>\n",
       "      <td>40.70</td>\n",
       "      <td>-73.99</td>\n",
       "    </tr>\n",
       "    <tr>\n",
       "      <th>3110839</th>\n",
       "      <td>Yankee Ferry Terminal</td>\n",
       "      <td>West St &amp; Chambers St</td>\n",
       "      <td>6</td>\n",
       "      <td>40.69</td>\n",
       "      <td>-74.02</td>\n",
       "      <td>40.72</td>\n",
       "      <td>-74.01</td>\n",
       "    </tr>\n",
       "    <tr>\n",
       "      <th>3110840</th>\n",
       "      <td>Yankee Ferry Terminal</td>\n",
       "      <td>West St &amp; Liberty St</td>\n",
       "      <td>4</td>\n",
       "      <td>40.69</td>\n",
       "      <td>-74.02</td>\n",
       "      <td>40.71</td>\n",
       "      <td>-74.01</td>\n",
       "    </tr>\n",
       "    <tr>\n",
       "      <th>3110841</th>\n",
       "      <td>Yankee Ferry Terminal</td>\n",
       "      <td>West Thames St</td>\n",
       "      <td>1</td>\n",
       "      <td>40.69</td>\n",
       "      <td>-74.02</td>\n",
       "      <td>40.71</td>\n",
       "      <td>-74.02</td>\n",
       "    </tr>\n",
       "    <tr>\n",
       "      <th>3110842</th>\n",
       "      <td>Yankee Ferry Terminal</td>\n",
       "      <td>Yankee Ferry Terminal</td>\n",
       "      <td>5965</td>\n",
       "      <td>40.69</td>\n",
       "      <td>-74.02</td>\n",
       "      <td>40.69</td>\n",
       "      <td>-74.02</td>\n",
       "    </tr>\n",
       "  </tbody>\n",
       "</table>\n",
       "</div>"
      ],
      "text/plain": [
       "            start_station_name       end_station_name  trip_count  start_lat  \\\n",
       "3110838  Yankee Ferry Terminal     Water St & Main St           4      40.69   \n",
       "3110839  Yankee Ferry Terminal  West St & Chambers St           6      40.69   \n",
       "3110840  Yankee Ferry Terminal   West St & Liberty St           4      40.69   \n",
       "3110841  Yankee Ferry Terminal         West Thames St           1      40.69   \n",
       "3110842  Yankee Ferry Terminal  Yankee Ferry Terminal        5965      40.69   \n",
       "\n",
       "         start_lng  end_lat  end_lng  \n",
       "3110838     -74.02    40.70   -73.99  \n",
       "3110839     -74.02    40.72   -74.01  \n",
       "3110840     -74.02    40.71   -74.01  \n",
       "3110841     -74.02    40.71   -74.02  \n",
       "3110842     -74.02    40.69   -74.02  "
      ]
     },
     "execution_count": 59,
     "metadata": {},
     "output_type": "execute_result"
    }
   ],
   "source": [
    "merged1_df.tail(5)"
   ]
  },
  {
   "cell_type": "code",
   "execution_count": 60,
   "id": "d3c10d81-3cbd-49ae-b1ef-446df576da25",
   "metadata": {
    "tags": []
   },
   "outputs": [],
   "source": [
    "# Sort the DataFrame by the \"trip_count\" column in descending order\n",
    "merged1_df_sorted = merged1_df.sort_values(by='trip_count', ascending=False)"
   ]
  },
  {
   "cell_type": "code",
   "execution_count": 61,
   "id": "46855a0b-ea09-4bc2-bd87-38b947bf868a",
   "metadata": {
    "tags": []
   },
   "outputs": [
    {
     "data": {
      "text/html": [
       "<div>\n",
       "<style scoped>\n",
       "    .dataframe tbody tr th:only-of-type {\n",
       "        vertical-align: middle;\n",
       "    }\n",
       "\n",
       "    .dataframe tbody tr th {\n",
       "        vertical-align: top;\n",
       "    }\n",
       "\n",
       "    .dataframe thead th {\n",
       "        text-align: right;\n",
       "    }\n",
       "</style>\n",
       "<table border=\"1\" class=\"dataframe\">\n",
       "  <thead>\n",
       "    <tr style=\"text-align: right;\">\n",
       "      <th></th>\n",
       "      <th>start_station_name</th>\n",
       "      <th>end_station_name</th>\n",
       "      <th>trip_count</th>\n",
       "      <th>start_lat</th>\n",
       "      <th>start_lng</th>\n",
       "      <th>end_lat</th>\n",
       "      <th>end_lng</th>\n",
       "    </tr>\n",
       "  </thead>\n",
       "  <tbody>\n",
       "    <tr>\n",
       "      <th>853449</th>\n",
       "      <td>Central Park S &amp; 6 Ave</td>\n",
       "      <td>Central Park S &amp; 6 Ave</td>\n",
       "      <td>14071</td>\n",
       "      <td>40.76</td>\n",
       "      <td>-73.98</td>\n",
       "      <td>40.77</td>\n",
       "      <td>-73.98</td>\n",
       "    </tr>\n",
       "    <tr>\n",
       "      <th>853417</th>\n",
       "      <td>Central Park S &amp; 6 Ave</td>\n",
       "      <td>Central Park S &amp; 6 Ave</td>\n",
       "      <td>14071</td>\n",
       "      <td>40.77</td>\n",
       "      <td>-73.98</td>\n",
       "      <td>40.77</td>\n",
       "      <td>-73.98</td>\n",
       "    </tr>\n",
       "    <tr>\n",
       "      <th>853427</th>\n",
       "      <td>Central Park S &amp; 6 Ave</td>\n",
       "      <td>Central Park S &amp; 6 Ave</td>\n",
       "      <td>14071</td>\n",
       "      <td>40.77</td>\n",
       "      <td>-73.96</td>\n",
       "      <td>40.77</td>\n",
       "      <td>-73.98</td>\n",
       "    </tr>\n",
       "    <tr>\n",
       "      <th>384550</th>\n",
       "      <td>7 Ave &amp; Central Park South</td>\n",
       "      <td>7 Ave &amp; Central Park South</td>\n",
       "      <td>10342</td>\n",
       "      <td>40.77</td>\n",
       "      <td>-73.98</td>\n",
       "      <td>40.77</td>\n",
       "      <td>-73.98</td>\n",
       "    </tr>\n",
       "    <tr>\n",
       "      <th>384566</th>\n",
       "      <td>7 Ave &amp; Central Park South</td>\n",
       "      <td>7 Ave &amp; Central Park South</td>\n",
       "      <td>10342</td>\n",
       "      <td>40.76</td>\n",
       "      <td>-73.97</td>\n",
       "      <td>40.77</td>\n",
       "      <td>-73.98</td>\n",
       "    </tr>\n",
       "  </tbody>\n",
       "</table>\n",
       "</div>"
      ],
      "text/plain": [
       "                start_station_name            end_station_name  trip_count  \\\n",
       "853449      Central Park S & 6 Ave      Central Park S & 6 Ave       14071   \n",
       "853417      Central Park S & 6 Ave      Central Park S & 6 Ave       14071   \n",
       "853427      Central Park S & 6 Ave      Central Park S & 6 Ave       14071   \n",
       "384550  7 Ave & Central Park South  7 Ave & Central Park South       10342   \n",
       "384566  7 Ave & Central Park South  7 Ave & Central Park South       10342   \n",
       "\n",
       "        start_lat  start_lng  end_lat  end_lng  \n",
       "853449      40.76     -73.98    40.77   -73.98  \n",
       "853417      40.77     -73.98    40.77   -73.98  \n",
       "853427      40.77     -73.96    40.77   -73.98  \n",
       "384550      40.77     -73.98    40.77   -73.98  \n",
       "384566      40.76     -73.97    40.77   -73.98  "
      ]
     },
     "execution_count": 61,
     "metadata": {},
     "output_type": "execute_result"
    }
   ],
   "source": [
    "merged1_df_sorted.head(5)"
   ]
  },
  {
   "cell_type": "code",
   "execution_count": 37,
   "id": "31466f76-795e-4c27-a764-dfdd67beea49",
   "metadata": {
    "tags": []
   },
   "outputs": [],
   "source": [
    "# Reset the index of the DataFrame\n",
    "merged1_df.reset_index(drop=True, inplace=True)\n"
   ]
  },
  {
   "cell_type": "code",
   "execution_count": 45,
   "id": "da377698-996f-4c54-aa2d-2e9119111034",
   "metadata": {
    "tags": []
   },
   "outputs": [
    {
     "name": "stdout",
     "output_type": "stream",
     "text": [
      "   start_station_name  end_station_name  trip_count  start_lat  start_lng  \\\n",
      "0    1 Ave & E 110 St  1 Ave & E 110 St        1473      40.79     -73.94   \n",
      "19   1 Ave & E 110 St  1 Ave & E 110 St        1473      40.81     -73.95   \n",
      "31   1 Ave & E 110 St   1 Ave & E 18 St           2      40.79     -73.94   \n",
      "32   1 Ave & E 110 St   1 Ave & E 30 St           4      40.79     -73.94   \n",
      "34   1 Ave & E 110 St   1 Ave & E 39 St           1      40.79     -73.94   \n",
      "\n",
      "    end_lat  end_lng  \n",
      "0     40.79   -73.94  \n",
      "19    40.79   -73.94  \n",
      "31    40.73   -73.98  \n",
      "32    40.74   -73.98  \n",
      "34    40.75   -73.97  \n"
     ]
    }
   ],
   "source": [
    "import pandas as pd\n",
    "\n",
    "# Round latitude and longitude values to a specific decimal place\n",
    "merged1_df['start_lat'] = merged1_df['start_lat'].round(2)\n",
    "merged1_df['start_lng'] =merged1_df['start_lng'].round(2)\n",
    "merged1_df['end_lat'] = merged1_df['end_lat'].round(2)\n",
    "merged1_df['end_lng'] = merged1_df['end_lng'].round(2)\n",
    "\n",
    "# Remove duplicate rows\n",
    "merged1_df = merged1_df.drop_duplicates()\n",
    "\n",
    "# Print the first few rows to verify the removal of duplicates\n",
    "print(merged1_df.head())\n"
   ]
  },
  {
   "cell_type": "code",
   "execution_count": 46,
   "id": "2b40299b-d537-4a31-9752-9e25864e2233",
   "metadata": {
    "tags": []
   },
   "outputs": [
    {
     "data": {
      "text/html": [
       "<div>\n",
       "<style scoped>\n",
       "    .dataframe tbody tr th:only-of-type {\n",
       "        vertical-align: middle;\n",
       "    }\n",
       "\n",
       "    .dataframe tbody tr th {\n",
       "        vertical-align: top;\n",
       "    }\n",
       "\n",
       "    .dataframe thead th {\n",
       "        text-align: right;\n",
       "    }\n",
       "</style>\n",
       "<table border=\"1\" class=\"dataframe\">\n",
       "  <thead>\n",
       "    <tr style=\"text-align: right;\">\n",
       "      <th></th>\n",
       "      <th>start_station_name</th>\n",
       "      <th>end_station_name</th>\n",
       "      <th>trip_count</th>\n",
       "      <th>start_lat</th>\n",
       "      <th>start_lng</th>\n",
       "      <th>end_lat</th>\n",
       "      <th>end_lng</th>\n",
       "    </tr>\n",
       "  </thead>\n",
       "  <tbody>\n",
       "    <tr>\n",
       "      <th>0</th>\n",
       "      <td>1 Ave &amp; E 110 St</td>\n",
       "      <td>1 Ave &amp; E 110 St</td>\n",
       "      <td>1473</td>\n",
       "      <td>40.79</td>\n",
       "      <td>-73.94</td>\n",
       "      <td>40.79</td>\n",
       "      <td>-73.94</td>\n",
       "    </tr>\n",
       "    <tr>\n",
       "      <th>19</th>\n",
       "      <td>1 Ave &amp; E 110 St</td>\n",
       "      <td>1 Ave &amp; E 110 St</td>\n",
       "      <td>1473</td>\n",
       "      <td>40.81</td>\n",
       "      <td>-73.95</td>\n",
       "      <td>40.79</td>\n",
       "      <td>-73.94</td>\n",
       "    </tr>\n",
       "    <tr>\n",
       "      <th>31</th>\n",
       "      <td>1 Ave &amp; E 110 St</td>\n",
       "      <td>1 Ave &amp; E 18 St</td>\n",
       "      <td>2</td>\n",
       "      <td>40.79</td>\n",
       "      <td>-73.94</td>\n",
       "      <td>40.73</td>\n",
       "      <td>-73.98</td>\n",
       "    </tr>\n",
       "    <tr>\n",
       "      <th>32</th>\n",
       "      <td>1 Ave &amp; E 110 St</td>\n",
       "      <td>1 Ave &amp; E 30 St</td>\n",
       "      <td>4</td>\n",
       "      <td>40.79</td>\n",
       "      <td>-73.94</td>\n",
       "      <td>40.74</td>\n",
       "      <td>-73.98</td>\n",
       "    </tr>\n",
       "    <tr>\n",
       "      <th>34</th>\n",
       "      <td>1 Ave &amp; E 110 St</td>\n",
       "      <td>1 Ave &amp; E 39 St</td>\n",
       "      <td>1</td>\n",
       "      <td>40.79</td>\n",
       "      <td>-73.94</td>\n",
       "      <td>40.75</td>\n",
       "      <td>-73.97</td>\n",
       "    </tr>\n",
       "  </tbody>\n",
       "</table>\n",
       "</div>"
      ],
      "text/plain": [
       "   start_station_name  end_station_name  trip_count  start_lat  start_lng  \\\n",
       "0    1 Ave & E 110 St  1 Ave & E 110 St        1473      40.79     -73.94   \n",
       "19   1 Ave & E 110 St  1 Ave & E 110 St        1473      40.81     -73.95   \n",
       "31   1 Ave & E 110 St   1 Ave & E 18 St           2      40.79     -73.94   \n",
       "32   1 Ave & E 110 St   1 Ave & E 30 St           4      40.79     -73.94   \n",
       "34   1 Ave & E 110 St   1 Ave & E 39 St           1      40.79     -73.94   \n",
       "\n",
       "    end_lat  end_lng  \n",
       "0     40.79   -73.94  \n",
       "19    40.79   -73.94  \n",
       "31    40.73   -73.98  \n",
       "32    40.74   -73.98  \n",
       "34    40.75   -73.97  "
      ]
     },
     "execution_count": 46,
     "metadata": {},
     "output_type": "execute_result"
    }
   ],
   "source": [
    "merged1_df.head(5)"
   ]
  },
  {
   "cell_type": "code",
   "execution_count": 48,
   "id": "612e0909-d159-4efb-a9bd-f6c550956aa6",
   "metadata": {
    "tags": []
   },
   "outputs": [
    {
     "data": {
      "text/plain": [
       "(1052538, 7)"
      ]
     },
     "execution_count": 48,
     "metadata": {},
     "output_type": "execute_result"
    }
   ],
   "source": [
    "merged1_df.shape"
   ]
  },
  {
   "cell_type": "code",
   "execution_count": 49,
   "id": "a0c30c63-6cec-43c8-9d2e-2b1a1630c697",
   "metadata": {
    "tags": []
   },
   "outputs": [
    {
     "data": {
      "text/plain": [
       "884"
      ]
     },
     "execution_count": 49,
     "metadata": {},
     "output_type": "execute_result"
    }
   ],
   "source": [
    "import gc # this is garbage collector - speeds up performance\n",
    "gc.collect()"
   ]
  },
  {
   "cell_type": "markdown",
   "id": "9390ef29-6bad-4970-9bc7-7e77ef722785",
   "metadata": {},
   "source": [
    "#4.Initialize an instance of a kepler.gl map."
   ]
  },
  {
   "cell_type": "code",
   "execution_count": 50,
   "id": "fe4768e7-a12f-4614-82a1-a0377e72fed7",
   "metadata": {
    "tags": []
   },
   "outputs": [],
   "source": [
    "merged1_df.to_csv('df_group_locations_for_map.csv', index=False)\n"
   ]
  },
  {
   "cell_type": "code",
   "execution_count": 53,
   "id": "c01977da-8603-4d09-88a9-7f867a0c6cf9",
   "metadata": {
    "tags": []
   },
   "outputs": [
    {
     "name": "stdout",
     "output_type": "stream",
     "text": [
      "User Guide: https://docs.kepler.gl/docs/keplergl-jupyter\n"
     ]
    },
    {
     "data": {
      "application/vnd.jupyter.widget-view+json": {
       "model_id": "577bf538b4d74fdda8154503431ea428",
       "version_major": 2,
       "version_minor": 0
      },
      "text/plain": [
       "KeplerGl(data={'data_1':             start_station_name       end_station_name  trip_count  start_lat  \\\n",
       "0    …"
      ]
     },
     "metadata": {},
     "output_type": "display_data"
    }
   ],
   "source": [
    "# Create KeplerGl instance\n",
    "\n",
    "m = KeplerGl(height = 700, data={\"data_1\": merged1_df})\n",
    "m"
   ]
  },
  {
   "cell_type": "markdown",
   "id": "afd9ad5e-7d86-4f89-977d-0ea7cc67a579",
   "metadata": {},
   "source": [
    "#6.Add a filter to your map and use it to see what the most common trips are in New York City. What else makes an impression? For example, are there any zones that seem particularly busy? Using some additional research, write a few sentences to make sense of that output"
   ]
  },
  {
   "cell_type": "code",
   "execution_count": 52,
   "id": "53fe3396-ebbe-4a34-aba9-c26e75540f01",
   "metadata": {
    "tags": []
   },
   "outputs": [
    {
     "name": "stdout",
     "output_type": "stream",
     "text": [
      "User Guide: https://docs.kepler.gl/docs/keplergl-jupyter\n"
     ]
    },
    {
     "data": {
      "application/vnd.jupyter.widget-view+json": {
       "model_id": "825490c083e84f0990abbcc399022488",
       "version_major": 2,
       "version_minor": 0
      },
      "text/plain": [
       "KeplerGl(data={'data_1':             start_station_name       end_station_name  trip_count  start_lat  \\\n",
       "0    …"
      ]
     },
     "metadata": {},
     "output_type": "display_data"
    }
   ],
   "source": [
    "m1 = KeplerGl(height = 700, data={\"data_1\": merged1_df})\n",
    "m1"
   ]
  },
  {
   "cell_type": "markdown",
   "id": "ae912603-6383-4c4a-9955-876f2d4355cd",
   "metadata": {},
   "source": [
    "It appears that the most common trips in New York City involve stations \"Central Park S & 6 Ave\" and \"7 Ave & Central Park South.This suggests that these stations are major transportation hubs or are located in areas with high activity or demand for bike sharing services.Additionally, we might observe that there are multiple trips with the same start and end stations but with different trip counts. This could indicate variations in demand throughout the day, week, or year, reflecting different commuting patterns, tourist flows, or events happening in the city. "
   ]
  },
  {
   "cell_type": "markdown",
   "id": "62b7d5f5-57f7-4feb-ac42-06fe94077b7c",
   "metadata": {},
   "source": [
    "#7. Create a config object and save your map with it"
   ]
  },
  {
   "cell_type": "code",
   "execution_count": 62,
   "id": "624ce791-3db1-4348-a141-ec439850f30e",
   "metadata": {
    "tags": []
   },
   "outputs": [],
   "source": [
    "config = m.config"
   ]
  },
  {
   "cell_type": "code",
   "execution_count": 63,
   "id": "9f3a658f-9871-46af-810d-cecd6e01ff7a",
   "metadata": {
    "tags": []
   },
   "outputs": [],
   "source": [
    "import json\n",
    "with open(\"config.json\", \"w\") as outfile:\n",
    "    json.dump(config, outfile)"
   ]
  },
  {
   "cell_type": "code",
   "execution_count": 64,
   "id": "c86928a3-7369-4ca9-895e-2ede19accd45",
   "metadata": {
    "tags": []
   },
   "outputs": [
    {
     "name": "stdout",
     "output_type": "stream",
     "text": [
      "Map saved to New York Bike Trips Aggregated.html!\n"
     ]
    }
   ],
   "source": [
    "m.save_to_html(file_name = 'New York Bike Trips Aggregated.html', read_only = False, config = config)"
   ]
  },
  {
   "cell_type": "code",
   "execution_count": 65,
   "id": "c523a1d0-40e3-463f-b032-c65864a957fe",
   "metadata": {},
   "outputs": [],
   "source": [
    "config1 = m1.config"
   ]
  },
  {
   "cell_type": "code",
   "execution_count": 66,
   "id": "044947b0-8f46-40a4-a725-67e0d4d3cf0b",
   "metadata": {
    "tags": []
   },
   "outputs": [
    {
     "name": "stdout",
     "output_type": "stream",
     "text": [
      "Map saved to New York Bike Trips Aggregated1.html!\n"
     ]
    }
   ],
   "source": [
    "m1.save_to_html(file_name = 'New York Bike Trips Aggregated1.html', read_only = False, config = config)"
   ]
  },
  {
   "cell_type": "code",
   "execution_count": null,
   "id": "4c8a19dc-f359-4070-835e-5a76ac737749",
   "metadata": {},
   "outputs": [],
   "source": []
  },
  {
   "cell_type": "code",
   "execution_count": null,
   "id": "144876e0-4b4a-4b7a-a01c-09d97b66c8f7",
   "metadata": {},
   "outputs": [],
   "source": []
  }
 ],
 "metadata": {
  "kernelspec": {
   "display_name": "Python [conda env:Achievement_2]",
   "language": "python",
   "name": "conda-env-Achievement_2-py"
  },
  "language_info": {
   "codemirror_mode": {
    "name": "ipython",
    "version": 3
   },
   "file_extension": ".py",
   "mimetype": "text/x-python",
   "name": "python",
   "nbconvert_exporter": "python",
   "pygments_lexer": "ipython3",
   "version": "3.12.2"
  }
 },
 "nbformat": 4,
 "nbformat_minor": 5
}
